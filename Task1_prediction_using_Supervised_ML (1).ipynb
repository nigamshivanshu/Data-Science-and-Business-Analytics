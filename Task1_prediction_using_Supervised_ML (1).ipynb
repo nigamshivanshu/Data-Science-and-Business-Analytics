{
  "nbformat": 4,
  "nbformat_minor": 0,
  "metadata": {
    "colab": {
      "name": "Task1-prediction using Supervised ML.ipynb",
      "provenance": [],
      "collapsed_sections": []
    },
    "kernelspec": {
      "name": "python3",
      "display_name": "Python 3"
    },
    "language_info": {
      "name": "python"
    }
  },
  "cells": [
    {
      "cell_type": "code",
      "metadata": {
        "id": "J1YukUTgVu41"
      },
      "source": [
        "import numpy as np\n",
        "import pandas as pd\n",
        "import matplotlib.pyplot as plt\n",
        "import sklearn\n",
        "%matplotlib inline"
      ],
      "execution_count": 73,
      "outputs": []
    },
    {
      "cell_type": "markdown",
      "metadata": {
        "id": "bmER_SJUXtbV"
      },
      "source": [
        "### Importing raw data and converting it to DataFrame for Future use. "
      ]
    },
    {
      "cell_type": "code",
      "metadata": {
        "colab": {
          "base_uri": "https://localhost:8080/",
          "height": 221
        },
        "id": "fTDvbhbsWNdD",
        "outputId": "33e7e3c7-305b-40f9-8fb5-16d50867b652"
      },
      "source": [
        "url=\"http://bit.ly/w-data\"\n",
        "std_data=pd.read_csv(url)\n",
        "print(\"Data imported successfully\")\n",
        "std_data.head()"
      ],
      "execution_count": 74,
      "outputs": [
        {
          "output_type": "stream",
          "name": "stdout",
          "text": [
            "Data imported successfully\n"
          ]
        },
        {
          "output_type": "execute_result",
          "data": {
            "text/html": [
              "<div>\n",
              "<style scoped>\n",
              "    .dataframe tbody tr th:only-of-type {\n",
              "        vertical-align: middle;\n",
              "    }\n",
              "\n",
              "    .dataframe tbody tr th {\n",
              "        vertical-align: top;\n",
              "    }\n",
              "\n",
              "    .dataframe thead th {\n",
              "        text-align: right;\n",
              "    }\n",
              "</style>\n",
              "<table border=\"1\" class=\"dataframe\">\n",
              "  <thead>\n",
              "    <tr style=\"text-align: right;\">\n",
              "      <th></th>\n",
              "      <th>Hours</th>\n",
              "      <th>Scores</th>\n",
              "    </tr>\n",
              "  </thead>\n",
              "  <tbody>\n",
              "    <tr>\n",
              "      <th>0</th>\n",
              "      <td>2.5</td>\n",
              "      <td>21</td>\n",
              "    </tr>\n",
              "    <tr>\n",
              "      <th>1</th>\n",
              "      <td>5.1</td>\n",
              "      <td>47</td>\n",
              "    </tr>\n",
              "    <tr>\n",
              "      <th>2</th>\n",
              "      <td>3.2</td>\n",
              "      <td>27</td>\n",
              "    </tr>\n",
              "    <tr>\n",
              "      <th>3</th>\n",
              "      <td>8.5</td>\n",
              "      <td>75</td>\n",
              "    </tr>\n",
              "    <tr>\n",
              "      <th>4</th>\n",
              "      <td>3.5</td>\n",
              "      <td>30</td>\n",
              "    </tr>\n",
              "  </tbody>\n",
              "</table>\n",
              "</div>"
            ],
            "text/plain": [
              "   Hours  Scores\n",
              "0    2.5      21\n",
              "1    5.1      47\n",
              "2    3.2      27\n",
              "3    8.5      75\n",
              "4    3.5      30"
            ]
          },
          "metadata": {},
          "execution_count": 74
        }
      ]
    },
    {
      "cell_type": "code",
      "metadata": {
        "colab": {
          "base_uri": "https://localhost:8080/"
        },
        "id": "Bbz-I79VXjuL",
        "outputId": "903e7286-85ad-4a16-a363-ccd1e3194609"
      },
      "source": [
        "print(std_data.shape)"
      ],
      "execution_count": 75,
      "outputs": [
        {
          "output_type": "stream",
          "name": "stdout",
          "text": [
            "(25, 2)\n"
          ]
        }
      ]
    },
    {
      "cell_type": "markdown",
      "metadata": {
        "id": "vSYJWjbxYhuW"
      },
      "source": [
        "### Visualizing data to understand the relationship between data features and data labels."
      ]
    },
    {
      "cell_type": "code",
      "metadata": {
        "id": "FtkZ2MmlXqK9",
        "colab": {
          "base_uri": "https://localhost:8080/",
          "height": 295
        },
        "outputId": "9d5f9fe7-03f0-433d-d1cf-93aee7ce8b2c"
      },
      "source": [
        "plt.scatter(std_data['Hours'],std_data['Scores'],color='b')\n",
        "plt.plot()\n",
        "plt.title(\"Percentage-score vs Studying Hours\",fontweight='bold')\n",
        "plt.xlabel(\"Studying-Hours\",fontweight='bold')\n",
        "plt.ylabel(\"Percentage-Scores\",fontweight='bold')\n",
        "plt.grid()\n",
        "plt.show()"
      ],
      "execution_count": 76,
      "outputs": [
        {
          "output_type": "display_data",
          "data": {
            "image/png": "[encoded data removed]",
            "text/plain": [
              "<Figure size 432x288 with 1 Axes>"
            ]
          },
          "metadata": {
            "needs_background": "light"
          }
        }
      ]
    },
    {
      "cell_type": "markdown",
      "metadata": {
        "id": "VMRSclf0aDyv"
      },
      "source": [
        "As we can see in the graph that if number of studying hours increases then the score will also increase."
      ]
    },
    {
      "cell_type": "code",
      "metadata": {
        "id": "nosZMnqydNFZ"
      },
      "source": [
        "X=std_data.iloc[:,:-1].values\n",
        "Y=std_data.iloc[:,1].values\n",
        "from sklearn.model_selection import train_test_split \n",
        "X_train,X_test,Y_train,Y_test=train_test_split(X,Y,test_size=.15,random_state=100)#Dividing data into train and test data."
      ],
      "execution_count": 77,
      "outputs": []
    },
    {
      "cell_type": "markdown",
      "metadata": {
        "id": "PdyouaTvflJM"
      },
      "source": [
        "## Creating a Linear Regression model for Predicting scores on the basis of No. of studying hours."
      ]
    },
    {
      "cell_type": "code",
      "metadata": {
        "colab": {
          "base_uri": "https://localhost:8080/"
        },
        "id": "kEWMUdkxejil",
        "outputId": "0532e8cf-51b2-4dc7-ef51-6090487df2a8"
      },
      "source": [
        "from sklearn.linear_model import LinearRegression\n",
        "model=LinearRegression()\n",
        "model.fit(X_train,Y_train)"
      ],
      "execution_count": 78,
      "outputs": [
        {
          "output_type": "execute_result",
          "data": {
            "text/plain": [
              "LinearRegression(copy_X=True, fit_intercept=True, n_jobs=None, normalize=False)"
            ]
          },
          "metadata": {},
          "execution_count": 78
        }
      ]
    },
    {
      "cell_type": "code",
      "metadata": {
        "colab": {
          "base_uri": "https://localhost:8080/",
          "height": 295
        },
        "id": "GY1OkbEw1znZ",
        "outputId": "4850de95-2156-4389-ea7a-38119a25688f"
      },
      "source": [
        "# Plotting the regression line\n",
        "line = model.coef_*X+model.intercept_\n",
        "\n",
        "# Plotting for the test data\n",
        "plt.scatter(X, Y)\n",
        "plt.title(\"Percentage-score vs Studying Hours\",fontweight='bold')\n",
        "plt.xlabel(\"Studying-Hours\",fontweight='bold')\n",
        "plt.ylabel(\"Percentage-Scores\",fontweight='bold')\n",
        "plt.grid()\n",
        "plt.plot(X, line);\n",
        "plt.show()"
      ],
      "execution_count": 79,
      "outputs": [
        {
          "output_type": "display_data",
          "data": {
            "image/png": "[encoded data removed]",
            "text/plain": [
              "<Figure size 432x288 with 1 Axes>"
            ]
          },
          "metadata": {
            "needs_background": "light"
          }
        }
      ]
    },
    {
      "cell_type": "markdown",
      "metadata": {
        "id": "OhqYUQ8tgIDN"
      },
      "source": [
        "## Prediction"
      ]
    },
    {
      "cell_type": "code",
      "metadata": {
        "colab": {
          "base_uri": "https://localhost:8080/"
        },
        "id": "EQM1knfvf-jA",
        "outputId": "21faf1ec-fb53-41af-ce67-75d97a70b5cc"
      },
      "source": [
        "Y_pred=model.predict(X_test)\n",
        "print(type(X_test))\n",
        "print(type(Y_pred))\n",
        "print(Y_pred)\n",
        "print(\"****************************\")\n",
        "print(Y_test)"
      ],
      "execution_count": 80,
      "outputs": [
        {
          "output_type": "stream",
          "name": "stdout",
          "text": [
            "<class 'numpy.ndarray'>\n",
            "<class 'numpy.ndarray'>\n",
            "[28.91576423 39.64063845 34.76569563 60.11539833]\n",
            "****************************\n",
            "[25 35 42 62]\n"
          ]
        }
      ]
    },
    {
      "cell_type": "code",
      "metadata": {
        "colab": {
          "base_uri": "https://localhost:8080/",
          "height": 173
        },
        "id": "v2bjGffahkyI",
        "outputId": "81a65319-d0af-4ce6-a670-ad4083fe1471"
      },
      "source": [
        "# Comparing Actual vs Predicted percentage score\n",
        "df = pd.DataFrame({'Actual': Y_test, 'Predicted': Y_pred})  \n",
        "df "
      ],
      "execution_count": 81,
      "outputs": [
        {
          "output_type": "execute_result",
          "data": {
            "text/html": [
              "<div>\n",
              "<style scoped>\n",
              "    .dataframe tbody tr th:only-of-type {\n",
              "        vertical-align: middle;\n",
              "    }\n",
              "\n",
              "    .dataframe tbody tr th {\n",
              "        vertical-align: top;\n",
              "    }\n",
              "\n",
              "    .dataframe thead th {\n",
              "        text-align: right;\n",
              "    }\n",
              "</style>\n",
              "<table border=\"1\" class=\"dataframe\">\n",
              "  <thead>\n",
              "    <tr style=\"text-align: right;\">\n",
              "      <th></th>\n",
              "      <th>Actual</th>\n",
              "      <th>Predicted</th>\n",
              "    </tr>\n",
              "  </thead>\n",
              "  <tbody>\n",
              "    <tr>\n",
              "      <th>0</th>\n",
              "      <td>25</td>\n",
              "      <td>28.915764</td>\n",
              "    </tr>\n",
              "    <tr>\n",
              "      <th>1</th>\n",
              "      <td>35</td>\n",
              "      <td>39.640638</td>\n",
              "    </tr>\n",
              "    <tr>\n",
              "      <th>2</th>\n",
              "      <td>42</td>\n",
              "      <td>34.765696</td>\n",
              "    </tr>\n",
              "    <tr>\n",
              "      <th>3</th>\n",
              "      <td>62</td>\n",
              "      <td>60.115398</td>\n",
              "    </tr>\n",
              "  </tbody>\n",
              "</table>\n",
              "</div>"
            ],
            "text/plain": [
              "   Actual  Predicted\n",
              "0      25  28.915764\n",
              "1      35  39.640638\n",
              "2      42  34.765696\n",
              "3      62  60.115398"
            ]
          },
          "metadata": {},
          "execution_count": 81
        }
      ]
    },
    {
      "cell_type": "code",
      "metadata": {
        "id": "EBoqmk4khyiB",
        "colab": {
          "base_uri": "https://localhost:8080/"
        },
        "outputId": "b2fb9ed4-0b98-4ece-b124-601607efb2a8"
      },
      "source": [
        "inp_hours=9.25\n",
        "predicted_score=model.predict([[inp_hours]])\n",
        "predicted_score=round(float(predicted_score),2)\n",
        "print(\"Studying hours=\",inp_hours)\n",
        "print(\"Percentage Score=\",predicted_score)\n"
      ],
      "execution_count": 82,
      "outputs": [
        {
          "output_type": "stream",
          "name": "stdout",
          "text": [
            "Studying hours= 9.25\n",
            "Percentage Score= 92.78\n"
          ]
        }
      ]
    },
    {
      "cell_type": "markdown",
      "metadata": {
        "id": "o7cqWXC_B8xA"
      },
      "source": [
        "##Evaluating Model"
      ]
    },
    {
      "cell_type": "code",
      "metadata": {
        "colab": {
          "base_uri": "https://localhost:8080/"
        },
        "id": "3ouAMJndB8VC",
        "outputId": "ad3e4925-c8ae-4092-cce2-480d1f45b3d3"
      },
      "source": [
        "from sklearn import metrics  \n",
        "print('Mean Absolute Error:', \n",
        "      metrics.mean_absolute_error(Y_test, Y_pred)) "
      ],
      "execution_count": 83,
      "outputs": [
        {
          "output_type": "stream",
          "name": "stdout",
          "text": [
            "Mean Absolute Error: 4.418827183329744\n"
          ]
        }
      ]
    }
  ]
}