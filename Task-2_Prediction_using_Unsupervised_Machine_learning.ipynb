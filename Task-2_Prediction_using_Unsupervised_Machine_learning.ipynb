{
  "nbformat": 4,
  "nbformat_minor": 0,
  "metadata": {
    "colab": {
      "name": "Prediction using Unsupervised Machine learning.ipynb",
      "provenance": [],
      "collapsed_sections": []
    },
    "kernelspec": {
      "name": "python3",
      "display_name": "Python 3"
    },
    "language_info": {
      "name": "python"
    }
  },
  "cells": [
    {
      "cell_type": "markdown",
      "metadata": {
        "id": "CKiAwLu7JlUZ"
      },
      "source": [
        "###Importing necessary library"
      ]
    },
    {
      "cell_type": "code",
      "metadata": {
        "id": "BmOXpQD0H8wv"
      },
      "source": [
        "import numpy as np\n",
        "import pandas as pd\n",
        "import matplotlib.pyplot as plt\n",
        "import sklearn"
      ],
      "execution_count": 1,
      "outputs": []
    },
    {
      "cell_type": "markdown",
      "metadata": {
        "id": "nMGS8wI4JvRP"
      },
      "source": [
        "Analyzing Data"
      ]
    },
    {
      "cell_type": "code",
      "metadata": {
        "colab": {
          "base_uri": "https://localhost:8080/",
          "height": 204
        },
        "id": "sCtBRStjIowv",
        "outputId": "2f6c4feb-15de-4829-e1be-c5961353752d"
      },
      "source": [
        "iris=pd.read_csv(\"/content/Iris.csv\")\n",
        "iris.head()"
      ],
      "execution_count": 2,
      "outputs": [
        {
          "output_type": "execute_result",
          "data": {
            "text/html": [
              "<div>\n",
              "<style scoped>\n",
              "    .dataframe tbody tr th:only-of-type {\n",
              "        vertical-align: middle;\n",
              "    }\n",
              "\n",
              "    .dataframe tbody tr th {\n",
              "        vertical-align: top;\n",
              "    }\n",
              "\n",
              "    .dataframe thead th {\n",
              "        text-align: right;\n",
              "    }\n",
              "</style>\n",
              "<table border=\"1\" class=\"dataframe\">\n",
              "  <thead>\n",
              "    <tr style=\"text-align: right;\">\n",
              "      <th></th>\n",
              "      <th>Id</th>\n",
              "      <th>SepalLengthCm</th>\n",
              "      <th>SepalWidthCm</th>\n",
              "      <th>PetalLengthCm</th>\n",
              "      <th>PetalWidthCm</th>\n",
              "      <th>Species</th>\n",
              "    </tr>\n",
              "  </thead>\n",
              "  <tbody>\n",
              "    <tr>\n",
              "      <th>0</th>\n",
              "      <td>1</td>\n",
              "      <td>5.1</td>\n",
              "      <td>3.5</td>\n",
              "      <td>1.4</td>\n",
              "      <td>0.2</td>\n",
              "      <td>Iris-setosa</td>\n",
              "    </tr>\n",
              "    <tr>\n",
              "      <th>1</th>\n",
              "      <td>2</td>\n",
              "      <td>4.9</td>\n",
              "      <td>3.0</td>\n",
              "      <td>1.4</td>\n",
              "      <td>0.2</td>\n",
              "      <td>Iris-setosa</td>\n",
              "    </tr>\n",
              "    <tr>\n",
              "      <th>2</th>\n",
              "      <td>3</td>\n",
              "      <td>4.7</td>\n",
              "      <td>3.2</td>\n",
              "      <td>1.3</td>\n",
              "      <td>0.2</td>\n",
              "      <td>Iris-setosa</td>\n",
              "    </tr>\n",
              "    <tr>\n",
              "      <th>3</th>\n",
              "      <td>4</td>\n",
              "      <td>4.6</td>\n",
              "      <td>3.1</td>\n",
              "      <td>1.5</td>\n",
              "      <td>0.2</td>\n",
              "      <td>Iris-setosa</td>\n",
              "    </tr>\n",
              "    <tr>\n",
              "      <th>4</th>\n",
              "      <td>5</td>\n",
              "      <td>5.0</td>\n",
              "      <td>3.6</td>\n",
              "      <td>1.4</td>\n",
              "      <td>0.2</td>\n",
              "      <td>Iris-setosa</td>\n",
              "    </tr>\n",
              "  </tbody>\n",
              "</table>\n",
              "</div>"
            ],
            "text/plain": [
              "   Id  SepalLengthCm  SepalWidthCm  PetalLengthCm  PetalWidthCm      Species\n",
              "0   1            5.1           3.5            1.4           0.2  Iris-setosa\n",
              "1   2            4.9           3.0            1.4           0.2  Iris-setosa\n",
              "2   3            4.7           3.2            1.3           0.2  Iris-setosa\n",
              "3   4            4.6           3.1            1.5           0.2  Iris-setosa\n",
              "4   5            5.0           3.6            1.4           0.2  Iris-setosa"
            ]
          },
          "metadata": {},
          "execution_count": 2
        }
      ]
    },
    {
      "cell_type": "code",
      "metadata": {
        "colab": {
          "base_uri": "https://localhost:8080/"
        },
        "id": "CEK99ElPJEsI",
        "outputId": "299a45f7-0c65-4910-c5e7-d715b28e89dc"
      },
      "source": [
        "iris.shape"
      ],
      "execution_count": 3,
      "outputs": [
        {
          "output_type": "execute_result",
          "data": {
            "text/plain": [
              "(150, 6)"
            ]
          },
          "metadata": {},
          "execution_count": 3
        }
      ]
    },
    {
      "cell_type": "code",
      "metadata": {
        "colab": {
          "base_uri": "https://localhost:8080/"
        },
        "id": "XlWnHwzuJJfv",
        "outputId": "867c0e82-33d0-427f-cb63-b643edde8c49"
      },
      "source": [
        "iris.isnull().sum()"
      ],
      "execution_count": 4,
      "outputs": [
        {
          "output_type": "execute_result",
          "data": {
            "text/plain": [
              "Id               0\n",
              "SepalLengthCm    0\n",
              "SepalWidthCm     0\n",
              "PetalLengthCm    0\n",
              "PetalWidthCm     0\n",
              "Species          0\n",
              "dtype: int64"
            ]
          },
          "metadata": {},
          "execution_count": 4
        }
      ]
    },
    {
      "cell_type": "code",
      "metadata": {
        "colab": {
          "base_uri": "https://localhost:8080/"
        },
        "id": "ay4SwyuSJOGs",
        "outputId": "6f3c1a12-1d8c-45fd-abec-4663d01c5800"
      },
      "source": [
        "iris.columns"
      ],
      "execution_count": 5,
      "outputs": [
        {
          "output_type": "execute_result",
          "data": {
            "text/plain": [
              "Index(['Id', 'SepalLengthCm', 'SepalWidthCm', 'PetalLengthCm', 'PetalWidthCm',\n",
              "       'Species'],\n",
              "      dtype='object')"
            ]
          },
          "metadata": {},
          "execution_count": 5
        }
      ]
    },
    {
      "cell_type": "code",
      "metadata": {
        "colab": {
          "base_uri": "https://localhost:8080/",
          "height": 419
        },
        "id": "7ztRLSX9Jfz1",
        "outputId": "9bb2e427-a50c-4a0c-ad18-7c99f05ad4bf"
      },
      "source": [
        "iris.drop('Id',axis=1)# Removing Id columns "
      ],
      "execution_count": 6,
      "outputs": [
        {
          "output_type": "execute_result",
          "data": {
            "text/html": [
              "<div>\n",
              "<style scoped>\n",
              "    .dataframe tbody tr th:only-of-type {\n",
              "        vertical-align: middle;\n",
              "    }\n",
              "\n",
              "    .dataframe tbody tr th {\n",
              "        vertical-align: top;\n",
              "    }\n",
              "\n",
              "    .dataframe thead th {\n",
              "        text-align: right;\n",
              "    }\n",
              "</style>\n",
              "<table border=\"1\" class=\"dataframe\">\n",
              "  <thead>\n",
              "    <tr style=\"text-align: right;\">\n",
              "      <th></th>\n",
              "      <th>SepalLengthCm</th>\n",
              "      <th>SepalWidthCm</th>\n",
              "      <th>PetalLengthCm</th>\n",
              "      <th>PetalWidthCm</th>\n",
              "      <th>Species</th>\n",
              "    </tr>\n",
              "  </thead>\n",
              "  <tbody>\n",
              "    <tr>\n",
              "      <th>0</th>\n",
              "      <td>5.1</td>\n",
              "      <td>3.5</td>\n",
              "      <td>1.4</td>\n",
              "      <td>0.2</td>\n",
              "      <td>Iris-setosa</td>\n",
              "    </tr>\n",
              "    <tr>\n",
              "      <th>1</th>\n",
              "      <td>4.9</td>\n",
              "      <td>3.0</td>\n",
              "      <td>1.4</td>\n",
              "      <td>0.2</td>\n",
              "      <td>Iris-setosa</td>\n",
              "    </tr>\n",
              "    <tr>\n",
              "      <th>2</th>\n",
              "      <td>4.7</td>\n",
              "      <td>3.2</td>\n",
              "      <td>1.3</td>\n",
              "      <td>0.2</td>\n",
              "      <td>Iris-setosa</td>\n",
              "    </tr>\n",
              "    <tr>\n",
              "      <th>3</th>\n",
              "      <td>4.6</td>\n",
              "      <td>3.1</td>\n",
              "      <td>1.5</td>\n",
              "      <td>0.2</td>\n",
              "      <td>Iris-setosa</td>\n",
              "    </tr>\n",
              "    <tr>\n",
              "      <th>4</th>\n",
              "      <td>5.0</td>\n",
              "      <td>3.6</td>\n",
              "      <td>1.4</td>\n",
              "      <td>0.2</td>\n",
              "      <td>Iris-setosa</td>\n",
              "    </tr>\n",
              "    <tr>\n",
              "      <th>...</th>\n",
              "      <td>...</td>\n",
              "      <td>...</td>\n",
              "      <td>...</td>\n",
              "      <td>...</td>\n",
              "      <td>...</td>\n",
              "    </tr>\n",
              "    <tr>\n",
              "      <th>145</th>\n",
              "      <td>6.7</td>\n",
              "      <td>3.0</td>\n",
              "      <td>5.2</td>\n",
              "      <td>2.3</td>\n",
              "      <td>Iris-virginica</td>\n",
              "    </tr>\n",
              "    <tr>\n",
              "      <th>146</th>\n",
              "      <td>6.3</td>\n",
              "      <td>2.5</td>\n",
              "      <td>5.0</td>\n",
              "      <td>1.9</td>\n",
              "      <td>Iris-virginica</td>\n",
              "    </tr>\n",
              "    <tr>\n",
              "      <th>147</th>\n",
              "      <td>6.5</td>\n",
              "      <td>3.0</td>\n",
              "      <td>5.2</td>\n",
              "      <td>2.0</td>\n",
              "      <td>Iris-virginica</td>\n",
              "    </tr>\n",
              "    <tr>\n",
              "      <th>148</th>\n",
              "      <td>6.2</td>\n",
              "      <td>3.4</td>\n",
              "      <td>5.4</td>\n",
              "      <td>2.3</td>\n",
              "      <td>Iris-virginica</td>\n",
              "    </tr>\n",
              "    <tr>\n",
              "      <th>149</th>\n",
              "      <td>5.9</td>\n",
              "      <td>3.0</td>\n",
              "      <td>5.1</td>\n",
              "      <td>1.8</td>\n",
              "      <td>Iris-virginica</td>\n",
              "    </tr>\n",
              "  </tbody>\n",
              "</table>\n",
              "<p>150 rows × 5 columns</p>\n",
              "</div>"
            ],
            "text/plain": [
              "     SepalLengthCm  SepalWidthCm  PetalLengthCm  PetalWidthCm         Species\n",
              "0              5.1           3.5            1.4           0.2     Iris-setosa\n",
              "1              4.9           3.0            1.4           0.2     Iris-setosa\n",
              "2              4.7           3.2            1.3           0.2     Iris-setosa\n",
              "3              4.6           3.1            1.5           0.2     Iris-setosa\n",
              "4              5.0           3.6            1.4           0.2     Iris-setosa\n",
              "..             ...           ...            ...           ...             ...\n",
              "145            6.7           3.0            5.2           2.3  Iris-virginica\n",
              "146            6.3           2.5            5.0           1.9  Iris-virginica\n",
              "147            6.5           3.0            5.2           2.0  Iris-virginica\n",
              "148            6.2           3.4            5.4           2.3  Iris-virginica\n",
              "149            5.9           3.0            5.1           1.8  Iris-virginica\n",
              "\n",
              "[150 rows x 5 columns]"
            ]
          },
          "metadata": {},
          "execution_count": 6
        }
      ]
    },
    {
      "cell_type": "code",
      "metadata": {
        "colab": {
          "base_uri": "https://localhost:8080/"
        },
        "id": "PIVZez9pK41Z",
        "outputId": "9a111b1b-a45a-4081-ed50-d15e19779193"
      },
      "source": [
        "X=iris.iloc[:,:-1].values\n",
        "Y=iris.iloc[:,-1].values\n",
        "print(X)\n",
        "print('\\n')\n",
        "print(Y)"
      ],
      "execution_count": 7,
      "outputs": [
        {
          "output_type": "stream",
          "name": "stdout",
          "text": [
            "[[1.00e+00 5.10e+00 3.50e+00 1.40e+00 2.00e-01]\n",
            " [2.00e+00 4.90e+00 3.00e+00 1.40e+00 2.00e-01]\n",
            " [3.00e+00 4.70e+00 3.20e+00 1.30e+00 2.00e-01]\n",
            " [4.00e+00 4.60e+00 3.10e+00 1.50e+00 2.00e-01]\n",
            " [5.00e+00 5.00e+00 3.60e+00 1.40e+00 2.00e-01]\n",
            " [6.00e+00 5.40e+00 3.90e+00 1.70e+00 4.00e-01]\n",
            " [7.00e+00 4.60e+00 3.40e+00 1.40e+00 3.00e-01]\n",
            " [8.00e+00 5.00e+00 3.40e+00 1.50e+00 2.00e-01]\n",
            " [9.00e+00 4.40e+00 2.90e+00 1.40e+00 2.00e-01]\n",
            " [1.00e+01 4.90e+00 3.10e+00 1.50e+00 1.00e-01]\n",
            " [1.10e+01 5.40e+00 3.70e+00 1.50e+00 2.00e-01]\n",
            " [1.20e+01 4.80e+00 3.40e+00 1.60e+00 2.00e-01]\n",
            " [1.30e+01 4.80e+00 3.00e+00 1.40e+00 1.00e-01]\n",
            " [1.40e+01 4.30e+00 3.00e+00 1.10e+00 1.00e-01]\n",
            " [1.50e+01 5.80e+00 4.00e+00 1.20e+00 2.00e-01]\n",
            " [1.60e+01 5.70e+00 4.40e+00 1.50e+00 4.00e-01]\n",
            " [1.70e+01 5.40e+00 3.90e+00 1.30e+00 4.00e-01]\n",
            " [1.80e+01 5.10e+00 3.50e+00 1.40e+00 3.00e-01]\n",
            " [1.90e+01 5.70e+00 3.80e+00 1.70e+00 3.00e-01]\n",
            " [2.00e+01 5.10e+00 3.80e+00 1.50e+00 3.00e-01]\n",
            " [2.10e+01 5.40e+00 3.40e+00 1.70e+00 2.00e-01]\n",
            " [2.20e+01 5.10e+00 3.70e+00 1.50e+00 4.00e-01]\n",
            " [2.30e+01 4.60e+00 3.60e+00 1.00e+00 2.00e-01]\n",
            " [2.40e+01 5.10e+00 3.30e+00 1.70e+00 5.00e-01]\n",
            " [2.50e+01 4.80e+00 3.40e+00 1.90e+00 2.00e-01]\n",
            " [2.60e+01 5.00e+00 3.00e+00 1.60e+00 2.00e-01]\n",
            " [2.70e+01 5.00e+00 3.40e+00 1.60e+00 4.00e-01]\n",
            " [2.80e+01 5.20e+00 3.50e+00 1.50e+00 2.00e-01]\n",
            " [2.90e+01 5.20e+00 3.40e+00 1.40e+00 2.00e-01]\n",
            " [3.00e+01 4.70e+00 3.20e+00 1.60e+00 2.00e-01]\n",
            " [3.10e+01 4.80e+00 3.10e+00 1.60e+00 2.00e-01]\n",
            " [3.20e+01 5.40e+00 3.40e+00 1.50e+00 4.00e-01]\n",
            " [3.30e+01 5.20e+00 4.10e+00 1.50e+00 1.00e-01]\n",
            " [3.40e+01 5.50e+00 4.20e+00 1.40e+00 2.00e-01]\n",
            " [3.50e+01 4.90e+00 3.10e+00 1.50e+00 1.00e-01]\n",
            " [3.60e+01 5.00e+00 3.20e+00 1.20e+00 2.00e-01]\n",
            " [3.70e+01 5.50e+00 3.50e+00 1.30e+00 2.00e-01]\n",
            " [3.80e+01 4.90e+00 3.10e+00 1.50e+00 1.00e-01]\n",
            " [3.90e+01 4.40e+00 3.00e+00 1.30e+00 2.00e-01]\n",
            " [4.00e+01 5.10e+00 3.40e+00 1.50e+00 2.00e-01]\n",
            " [4.10e+01 5.00e+00 3.50e+00 1.30e+00 3.00e-01]\n",
            " [4.20e+01 4.50e+00 2.30e+00 1.30e+00 3.00e-01]\n",
            " [4.30e+01 4.40e+00 3.20e+00 1.30e+00 2.00e-01]\n",
            " [4.40e+01 5.00e+00 3.50e+00 1.60e+00 6.00e-01]\n",
            " [4.50e+01 5.10e+00 3.80e+00 1.90e+00 4.00e-01]\n",
            " [4.60e+01 4.80e+00 3.00e+00 1.40e+00 3.00e-01]\n",
            " [4.70e+01 5.10e+00 3.80e+00 1.60e+00 2.00e-01]\n",
            " [4.80e+01 4.60e+00 3.20e+00 1.40e+00 2.00e-01]\n",
            " [4.90e+01 5.30e+00 3.70e+00 1.50e+00 2.00e-01]\n",
            " [5.00e+01 5.00e+00 3.30e+00 1.40e+00 2.00e-01]\n",
            " [5.10e+01 7.00e+00 3.20e+00 4.70e+00 1.40e+00]\n",
            " [5.20e+01 6.40e+00 3.20e+00 4.50e+00 1.50e+00]\n",
            " [5.30e+01 6.90e+00 3.10e+00 4.90e+00 1.50e+00]\n",
            " [5.40e+01 5.50e+00 2.30e+00 4.00e+00 1.30e+00]\n",
            " [5.50e+01 6.50e+00 2.80e+00 4.60e+00 1.50e+00]\n",
            " [5.60e+01 5.70e+00 2.80e+00 4.50e+00 1.30e+00]\n",
            " [5.70e+01 6.30e+00 3.30e+00 4.70e+00 1.60e+00]\n",
            " [5.80e+01 4.90e+00 2.40e+00 3.30e+00 1.00e+00]\n",
            " [5.90e+01 6.60e+00 2.90e+00 4.60e+00 1.30e+00]\n",
            " [6.00e+01 5.20e+00 2.70e+00 3.90e+00 1.40e+00]\n",
            " [6.10e+01 5.00e+00 2.00e+00 3.50e+00 1.00e+00]\n",
            " [6.20e+01 5.90e+00 3.00e+00 4.20e+00 1.50e+00]\n",
            " [6.30e+01 6.00e+00 2.20e+00 4.00e+00 1.00e+00]\n",
            " [6.40e+01 6.10e+00 2.90e+00 4.70e+00 1.40e+00]\n",
            " [6.50e+01 5.60e+00 2.90e+00 3.60e+00 1.30e+00]\n",
            " [6.60e+01 6.70e+00 3.10e+00 4.40e+00 1.40e+00]\n",
            " [6.70e+01 5.60e+00 3.00e+00 4.50e+00 1.50e+00]\n",
            " [6.80e+01 5.80e+00 2.70e+00 4.10e+00 1.00e+00]\n",
            " [6.90e+01 6.20e+00 2.20e+00 4.50e+00 1.50e+00]\n",
            " [7.00e+01 5.60e+00 2.50e+00 3.90e+00 1.10e+00]\n",
            " [7.10e+01 5.90e+00 3.20e+00 4.80e+00 1.80e+00]\n",
            " [7.20e+01 6.10e+00 2.80e+00 4.00e+00 1.30e+00]\n",
            " [7.30e+01 6.30e+00 2.50e+00 4.90e+00 1.50e+00]\n",
            " [7.40e+01 6.10e+00 2.80e+00 4.70e+00 1.20e+00]\n",
            " [7.50e+01 6.40e+00 2.90e+00 4.30e+00 1.30e+00]\n",
            " [7.60e+01 6.60e+00 3.00e+00 4.40e+00 1.40e+00]\n",
            " [7.70e+01 6.80e+00 2.80e+00 4.80e+00 1.40e+00]\n",
            " [7.80e+01 6.70e+00 3.00e+00 5.00e+00 1.70e+00]\n",
            " [7.90e+01 6.00e+00 2.90e+00 4.50e+00 1.50e+00]\n",
            " [8.00e+01 5.70e+00 2.60e+00 3.50e+00 1.00e+00]\n",
            " [8.10e+01 5.50e+00 2.40e+00 3.80e+00 1.10e+00]\n",
            " [8.20e+01 5.50e+00 2.40e+00 3.70e+00 1.00e+00]\n",
            " [8.30e+01 5.80e+00 2.70e+00 3.90e+00 1.20e+00]\n",
            " [8.40e+01 6.00e+00 2.70e+00 5.10e+00 1.60e+00]\n",
            " [8.50e+01 5.40e+00 3.00e+00 4.50e+00 1.50e+00]\n",
            " [8.60e+01 6.00e+00 3.40e+00 4.50e+00 1.60e+00]\n",
            " [8.70e+01 6.70e+00 3.10e+00 4.70e+00 1.50e+00]\n",
            " [8.80e+01 6.30e+00 2.30e+00 4.40e+00 1.30e+00]\n",
            " [8.90e+01 5.60e+00 3.00e+00 4.10e+00 1.30e+00]\n",
            " [9.00e+01 5.50e+00 2.50e+00 4.00e+00 1.30e+00]\n",
            " [9.10e+01 5.50e+00 2.60e+00 4.40e+00 1.20e+00]\n",
            " [9.20e+01 6.10e+00 3.00e+00 4.60e+00 1.40e+00]\n",
            " [9.30e+01 5.80e+00 2.60e+00 4.00e+00 1.20e+00]\n",
            " [9.40e+01 5.00e+00 2.30e+00 3.30e+00 1.00e+00]\n",
            " [9.50e+01 5.60e+00 2.70e+00 4.20e+00 1.30e+00]\n",
            " [9.60e+01 5.70e+00 3.00e+00 4.20e+00 1.20e+00]\n",
            " [9.70e+01 5.70e+00 2.90e+00 4.20e+00 1.30e+00]\n",
            " [9.80e+01 6.20e+00 2.90e+00 4.30e+00 1.30e+00]\n",
            " [9.90e+01 5.10e+00 2.50e+00 3.00e+00 1.10e+00]\n",
            " [1.00e+02 5.70e+00 2.80e+00 4.10e+00 1.30e+00]\n",
            " [1.01e+02 6.30e+00 3.30e+00 6.00e+00 2.50e+00]\n",
            " [1.02e+02 5.80e+00 2.70e+00 5.10e+00 1.90e+00]\n",
            " [1.03e+02 7.10e+00 3.00e+00 5.90e+00 2.10e+00]\n",
            " [1.04e+02 6.30e+00 2.90e+00 5.60e+00 1.80e+00]\n",
            " [1.05e+02 6.50e+00 3.00e+00 5.80e+00 2.20e+00]\n",
            " [1.06e+02 7.60e+00 3.00e+00 6.60e+00 2.10e+00]\n",
            " [1.07e+02 4.90e+00 2.50e+00 4.50e+00 1.70e+00]\n",
            " [1.08e+02 7.30e+00 2.90e+00 6.30e+00 1.80e+00]\n",
            " [1.09e+02 6.70e+00 2.50e+00 5.80e+00 1.80e+00]\n",
            " [1.10e+02 7.20e+00 3.60e+00 6.10e+00 2.50e+00]\n",
            " [1.11e+02 6.50e+00 3.20e+00 5.10e+00 2.00e+00]\n",
            " [1.12e+02 6.40e+00 2.70e+00 5.30e+00 1.90e+00]\n",
            " [1.13e+02 6.80e+00 3.00e+00 5.50e+00 2.10e+00]\n",
            " [1.14e+02 5.70e+00 2.50e+00 5.00e+00 2.00e+00]\n",
            " [1.15e+02 5.80e+00 2.80e+00 5.10e+00 2.40e+00]\n",
            " [1.16e+02 6.40e+00 3.20e+00 5.30e+00 2.30e+00]\n",
            " [1.17e+02 6.50e+00 3.00e+00 5.50e+00 1.80e+00]\n",
            " [1.18e+02 7.70e+00 3.80e+00 6.70e+00 2.20e+00]\n",
            " [1.19e+02 7.70e+00 2.60e+00 6.90e+00 2.30e+00]\n",
            " [1.20e+02 6.00e+00 2.20e+00 5.00e+00 1.50e+00]\n",
            " [1.21e+02 6.90e+00 3.20e+00 5.70e+00 2.30e+00]\n",
            " [1.22e+02 5.60e+00 2.80e+00 4.90e+00 2.00e+00]\n",
            " [1.23e+02 7.70e+00 2.80e+00 6.70e+00 2.00e+00]\n",
            " [1.24e+02 6.30e+00 2.70e+00 4.90e+00 1.80e+00]\n",
            " [1.25e+02 6.70e+00 3.30e+00 5.70e+00 2.10e+00]\n",
            " [1.26e+02 7.20e+00 3.20e+00 6.00e+00 1.80e+00]\n",
            " [1.27e+02 6.20e+00 2.80e+00 4.80e+00 1.80e+00]\n",
            " [1.28e+02 6.10e+00 3.00e+00 4.90e+00 1.80e+00]\n",
            " [1.29e+02 6.40e+00 2.80e+00 5.60e+00 2.10e+00]\n",
            " [1.30e+02 7.20e+00 3.00e+00 5.80e+00 1.60e+00]\n",
            " [1.31e+02 7.40e+00 2.80e+00 6.10e+00 1.90e+00]\n",
            " [1.32e+02 7.90e+00 3.80e+00 6.40e+00 2.00e+00]\n",
            " [1.33e+02 6.40e+00 2.80e+00 5.60e+00 2.20e+00]\n",
            " [1.34e+02 6.30e+00 2.80e+00 5.10e+00 1.50e+00]\n",
            " [1.35e+02 6.10e+00 2.60e+00 5.60e+00 1.40e+00]\n",
            " [1.36e+02 7.70e+00 3.00e+00 6.10e+00 2.30e+00]\n",
            " [1.37e+02 6.30e+00 3.40e+00 5.60e+00 2.40e+00]\n",
            " [1.38e+02 6.40e+00 3.10e+00 5.50e+00 1.80e+00]\n",
            " [1.39e+02 6.00e+00 3.00e+00 4.80e+00 1.80e+00]\n",
            " [1.40e+02 6.90e+00 3.10e+00 5.40e+00 2.10e+00]\n",
            " [1.41e+02 6.70e+00 3.10e+00 5.60e+00 2.40e+00]\n",
            " [1.42e+02 6.90e+00 3.10e+00 5.10e+00 2.30e+00]\n",
            " [1.43e+02 5.80e+00 2.70e+00 5.10e+00 1.90e+00]\n",
            " [1.44e+02 6.80e+00 3.20e+00 5.90e+00 2.30e+00]\n",
            " [1.45e+02 6.70e+00 3.30e+00 5.70e+00 2.50e+00]\n",
            " [1.46e+02 6.70e+00 3.00e+00 5.20e+00 2.30e+00]\n",
            " [1.47e+02 6.30e+00 2.50e+00 5.00e+00 1.90e+00]\n",
            " [1.48e+02 6.50e+00 3.00e+00 5.20e+00 2.00e+00]\n",
            " [1.49e+02 6.20e+00 3.40e+00 5.40e+00 2.30e+00]\n",
            " [1.50e+02 5.90e+00 3.00e+00 5.10e+00 1.80e+00]]\n",
            "\n",
            "\n",
            "['Iris-setosa' 'Iris-setosa' 'Iris-setosa' 'Iris-setosa' 'Iris-setosa'\n",
            " 'Iris-setosa' 'Iris-setosa' 'Iris-setosa' 'Iris-setosa' 'Iris-setosa'\n",
            " 'Iris-setosa' 'Iris-setosa' 'Iris-setosa' 'Iris-setosa' 'Iris-setosa'\n",
            " 'Iris-setosa' 'Iris-setosa' 'Iris-setosa' 'Iris-setosa' 'Iris-setosa'\n",
            " 'Iris-setosa' 'Iris-setosa' 'Iris-setosa' 'Iris-setosa' 'Iris-setosa'\n",
            " 'Iris-setosa' 'Iris-setosa' 'Iris-setosa' 'Iris-setosa' 'Iris-setosa'\n",
            " 'Iris-setosa' 'Iris-setosa' 'Iris-setosa' 'Iris-setosa' 'Iris-setosa'\n",
            " 'Iris-setosa' 'Iris-setosa' 'Iris-setosa' 'Iris-setosa' 'Iris-setosa'\n",
            " 'Iris-setosa' 'Iris-setosa' 'Iris-setosa' 'Iris-setosa' 'Iris-setosa'\n",
            " 'Iris-setosa' 'Iris-setosa' 'Iris-setosa' 'Iris-setosa' 'Iris-setosa'\n",
            " 'Iris-versicolor' 'Iris-versicolor' 'Iris-versicolor' 'Iris-versicolor'\n",
            " 'Iris-versicolor' 'Iris-versicolor' 'Iris-versicolor' 'Iris-versicolor'\n",
            " 'Iris-versicolor' 'Iris-versicolor' 'Iris-versicolor' 'Iris-versicolor'\n",
            " 'Iris-versicolor' 'Iris-versicolor' 'Iris-versicolor' 'Iris-versicolor'\n",
            " 'Iris-versicolor' 'Iris-versicolor' 'Iris-versicolor' 'Iris-versicolor'\n",
            " 'Iris-versicolor' 'Iris-versicolor' 'Iris-versicolor' 'Iris-versicolor'\n",
            " 'Iris-versicolor' 'Iris-versicolor' 'Iris-versicolor' 'Iris-versicolor'\n",
            " 'Iris-versicolor' 'Iris-versicolor' 'Iris-versicolor' 'Iris-versicolor'\n",
            " 'Iris-versicolor' 'Iris-versicolor' 'Iris-versicolor' 'Iris-versicolor'\n",
            " 'Iris-versicolor' 'Iris-versicolor' 'Iris-versicolor' 'Iris-versicolor'\n",
            " 'Iris-versicolor' 'Iris-versicolor' 'Iris-versicolor' 'Iris-versicolor'\n",
            " 'Iris-versicolor' 'Iris-versicolor' 'Iris-versicolor' 'Iris-versicolor'\n",
            " 'Iris-versicolor' 'Iris-versicolor' 'Iris-virginica' 'Iris-virginica'\n",
            " 'Iris-virginica' 'Iris-virginica' 'Iris-virginica' 'Iris-virginica'\n",
            " 'Iris-virginica' 'Iris-virginica' 'Iris-virginica' 'Iris-virginica'\n",
            " 'Iris-virginica' 'Iris-virginica' 'Iris-virginica' 'Iris-virginica'\n",
            " 'Iris-virginica' 'Iris-virginica' 'Iris-virginica' 'Iris-virginica'\n",
            " 'Iris-virginica' 'Iris-virginica' 'Iris-virginica' 'Iris-virginica'\n",
            " 'Iris-virginica' 'Iris-virginica' 'Iris-virginica' 'Iris-virginica'\n",
            " 'Iris-virginica' 'Iris-virginica' 'Iris-virginica' 'Iris-virginica'\n",
            " 'Iris-virginica' 'Iris-virginica' 'Iris-virginica' 'Iris-virginica'\n",
            " 'Iris-virginica' 'Iris-virginica' 'Iris-virginica' 'Iris-virginica'\n",
            " 'Iris-virginica' 'Iris-virginica' 'Iris-virginica' 'Iris-virginica'\n",
            " 'Iris-virginica' 'Iris-virginica' 'Iris-virginica' 'Iris-virginica'\n",
            " 'Iris-virginica' 'Iris-virginica' 'Iris-virginica' 'Iris-virginica']\n"
          ]
        }
      ]
    },
    {
      "cell_type": "code",
      "metadata": {
        "colab": {
          "base_uri": "https://localhost:8080/",
          "height": 295
        },
        "id": "44Nm8t0WW_vJ",
        "outputId": "38c12677-cbbd-45d5-cddc-93ea9a98c275"
      },
      "source": [
        "from sklearn.cluster import KMeans\n",
        "wcss = []\n",
        "\n",
        "for i in range(1, 11):\n",
        "    kmeans = KMeans(n_clusters = i, init = 'k-means++', \n",
        "                    max_iter = 300, n_init = 10, random_state = 0)\n",
        "    kmeans.fit(X)\n",
        "    wcss.append(kmeans.inertia_)\n",
        "    \n",
        "# Plotting the results onto a line graph, \n",
        "# `allowing us to observe 'The elbow'\n",
        "plt.plot(range(1, 11), wcss)\n",
        "plt.title('The elbow method')\n",
        "plt.xlabel('Number of clusters')\n",
        "plt.ylabel('WCSS') # Within cluster sum of squares\n",
        "plt.show()"
      ],
      "execution_count": 8,
      "outputs": [
        {
          "output_type": "display_data",
          "data": {
            "image/png": "[encoded data removed]",
            "text/plain": [
              "<Figure size 432x288 with 1 Axes>"
            ]
          },
          "metadata": {
            "needs_background": "light"
          }
        }
      ]
    },
    {
      "cell_type": "code",
      "metadata": {
        "id": "LhGzaESCXnui"
      },
      "source": [
        "# Applying kmeans to the dataset / Creating the kmeans classifier\n",
        "kmeans = KMeans(n_clusters = 3, init = 'k-means++',max_iter = 300, n_init = 10, random_state = 0)\n",
        "y_kmeans = kmeans.fit_predict(X)"
      ],
      "execution_count": 9,
      "outputs": []
    },
    {
      "cell_type": "code",
      "metadata": {
        "colab": {
          "base_uri": "https://localhost:8080/"
        },
        "id": "QRdPw6JGnvEL",
        "outputId": "2a93153a-17f0-4508-bfc6-51bdee7a41c4"
      },
      "source": [
        "kmeans.cluster_centers_"
      ],
      "execution_count": 10,
      "outputs": [
        {
          "output_type": "execute_result",
          "data": {
            "text/plain": [
              "array([[125.5  ,   6.588,   2.974,   5.552,   2.026],\n",
              "       [ 25.5  ,   5.006,   3.418,   1.464,   0.244],\n",
              "       [ 75.5  ,   5.936,   2.77 ,   4.26 ,   1.326]])"
            ]
          },
          "metadata": {},
          "execution_count": 10
        }
      ]
    },
    {
      "cell_type": "code",
      "metadata": {
        "colab": {
          "base_uri": "https://localhost:8080/"
        },
        "id": "hRZwbNSPn8Qb",
        "outputId": "672f9624-e03f-4ea0-f0b5-750901973e42"
      },
      "source": [
        "labels=kmeans.labels_\n",
        "labels"
      ],
      "execution_count": 11,
      "outputs": [
        {
          "output_type": "execute_result",
          "data": {
            "text/plain": [
              "array([1, 1, 1, 1, 1, 1, 1, 1, 1, 1, 1, 1, 1, 1, 1, 1, 1, 1, 1, 1, 1, 1,\n",
              "       1, 1, 1, 1, 1, 1, 1, 1, 1, 1, 1, 1, 1, 1, 1, 1, 1, 1, 1, 1, 1, 1,\n",
              "       1, 1, 1, 1, 1, 1, 2, 2, 2, 2, 2, 2, 2, 2, 2, 2, 2, 2, 2, 2, 2, 2,\n",
              "       2, 2, 2, 2, 2, 2, 2, 2, 2, 2, 2, 2, 2, 2, 2, 2, 2, 2, 2, 2, 2, 2,\n",
              "       2, 2, 2, 2, 2, 2, 2, 2, 2, 2, 2, 2, 0, 0, 0, 0, 0, 0, 0, 0, 0, 0,\n",
              "       0, 0, 0, 0, 0, 0, 0, 0, 0, 0, 0, 0, 0, 0, 0, 0, 0, 0, 0, 0, 0, 0,\n",
              "       0, 0, 0, 0, 0, 0, 0, 0, 0, 0, 0, 0, 0, 0, 0, 0, 0, 0], dtype=int32)"
            ]
          },
          "metadata": {},
          "execution_count": 11
        }
      ]
    },
    {
      "cell_type": "code",
      "metadata": {
        "colab": {
          "base_uri": "https://localhost:8080/",
          "height": 265
        },
        "id": "K38hN3_WoP1o",
        "outputId": "fa51d593-9d13-4bf4-cae0-b852a1f2c23b"
      },
      "source": [
        "plt.scatter(X[y_kmeans == 0, 0], X[y_kmeans == 0, 1], \n",
        "            s = 100, c = 'red', label = 'Iris-setosa')\n",
        "plt.scatter(X[y_kmeans == 1, 0], X[y_kmeans == 1, 1], \n",
        "            s = 100, c = 'blue', label = 'Iris-versicolour')\n",
        "plt.scatter(X[y_kmeans == 2, 0], X[y_kmeans == 2, 1],\n",
        "            s = 100, c = 'green', label = 'Iris-virginica')\n",
        "\n",
        "# Plotting the centroids of the clusters\n",
        "plt.scatter(kmeans.cluster_centers_[:, 0], kmeans.cluster_centers_[:,1], \n",
        "            s = 100, c = 'yellow', label = 'Centroids')\n",
        "\n",
        "plt.legend()\n",
        "plt.show()"
      ],
      "execution_count": 12,
      "outputs": [
        {
          "output_type": "display_data",
          "data": {
            "image/png": "[encoded data removed]",
            "text/plain": [
              "<Figure size 432x288 with 1 Axes>"
            ]
          },
          "metadata": {
            "needs_background": "light"
          }
        }
      ]
    }
  ]
}